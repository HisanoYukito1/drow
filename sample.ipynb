import numpy as np 
import matplotlib.colors as mpc
import matplotlib.pyplot as plt
import polars as pl

# make mesh
# 分類用
th_step = 30
th_max = 180
th_list = np.deg2rad(np.arange(0, th_max + 1, th_step))

r_step = 1000
r_max = 5000
r_list = np.arange(0, r_max + 1, r_step)

# 描画用
THETA, R  = np.meshgrid(
    np.deg2rad(np.arange(th_step / 2, th_max, th_step)),
    np.arange(r_step / 2, r_max, r_step)
)

#make data
x = np.random.randint(-5000, 5000, 1000)
y = np.random.randint(0, 5000, 1000)

df = pl.DataFrame({"X": x, "Y": y})

df = df.with_columns(
    pl.arctan2(pl.col("Y"), pl.col("X")).alias("theta"),
    np.sqrt(pl.col("X") ** 2 + pl.col("Y") ** 2).alias("r")
)

df = pl.concat(
    [
        df,
        pl.DataFrame({"r_rank": np.digitize(df["r"], r_list)}),
        pl.DataFrame({"th_rank": np.digitize(df["theta"], th_list)})
    ],
    how="horizontal"
)

df_totalling = df.groupby(["r_rank", "th_rank"]).agg(
    pl.col("X").count().alias("count"),
    (
        pl.col("X").filter(pl.col("r").max()==pl.col("r")).median() -
        pl.col("X").filter(pl.col("r").min()==pl.col("r")).median()
    ).alias("u"),
    (
        pl.col("Y").filter(pl.col("r").max()==pl.col("r")).median() -
        pl.col("Y").filter(pl.col("r").min()==pl.col("r")).median()
    ).alias("v")
).sort(["r_rank", "th_rank"])
df_totalling = df_totalling.with_columns(
    np.sqrt(pl.col("u") ** 2 + pl.col("v") ** 2).alias("r")
).with_columns(
    (pl.col('u') / pl.col("r")).alias('norm_u'),
    (pl.col('v') / pl.col("r")).alias('norm_v'),
)

def pol2dec(r, theta):
    _x = r * np.cos(theta)
    _y = r * np.sin(theta)
    return _x, _y

def dec2pol(x, y):
    _r = np.sqrt(x**2 + y**2)
    _theta = np.arctan2(y, x)
    return _theta, _r

counts = np.zeros([len(r_list) - 1, len(th_list) - 1])
vs = np.zeros([len(r_list) - 1, len(th_list) - 1])
us = np.zeros([len(r_list) - 1, len(th_list) - 1])
rs = np.zeros([len(r_list) - 1, len(th_list) - 1])
for rid, r in enumerate(r_list[:-1]):
    for thid, th in enumerate(th_list[:-1]):
        _df = df_totalling.filter(
            (pl.col("r_rank") == rid + 1) & (pl.col("th_rank") == thid + 1)
        )
        counts[rid][thid] = _df["count"][0] if (len(_df) != 0) else 0
        vs[rid][thid] = _df["norm_v"][0] if (len(_df) != 0) else 0
        us[rid][thid] = _df["norm_u"][0] if (len(_df) != 0) else 0
        rs[rid][thid] = _df["r"][0] if (len(_df) != 0) else 0

cmap = "cool"

# Normalizer
norm = mpc.Normalize(vmin=df_totalling.select("r").min(), vmax=df_totalling.select("r").max())
cm = plt.cm.ScalarMappable(cmap=cmap, norm=norm)
        
fig, ax = plt.subplots(subplot_kw={'projection': 'polar'})
ax.quiver(THETA, R, us, vs, rs, cmap=cmap)
ax.set_thetalim(0, np.pi)
ax.set_rlim(0, r_max)
plt.colorbar(cm, cmap=cmap)
plt.show()
